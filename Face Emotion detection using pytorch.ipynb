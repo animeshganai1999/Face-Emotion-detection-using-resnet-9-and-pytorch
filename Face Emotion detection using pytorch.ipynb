{
 "cells": [
  {
   "cell_type": "markdown",
   "id": "71265d3e",
   "metadata": {},
   "source": [
    "#### Here we used resnet-9 model to train our model\n",
    "#### Dataset Link : https://www.kaggle.com/datasets/msambare/fer2013"
   ]
  },
  {
   "cell_type": "code",
   "execution_count": 1,
   "id": "a9f30283",
   "metadata": {},
   "outputs": [],
   "source": [
    "import os\n",
    "import torch\n",
    "import numpy as np\n",
    "import matplotlib.pyplot as plt\n",
    "import random"
   ]
  },
  {
   "cell_type": "code",
   "execution_count": 2,
   "id": "62c2374e",
   "metadata": {},
   "outputs": [],
   "source": [
    "data_dir = \"./data\"\n"
   ]
  },
  {
   "cell_type": "markdown",
   "id": "dc2c465e",
   "metadata": {},
   "source": [
    "### Data Augmentation"
   ]
  },
  {
   "cell_type": "code",
   "execution_count": 3,
   "id": "e1e7680f",
   "metadata": {},
   "outputs": [],
   "source": [
    "from torchvision.datasets import ImageFolder\n",
    "import torchvision.transforms as tt\n",
    "import torchvision\n",
    "\n",
    "train_tfms = tt.Compose([\n",
    "                    tt.RandomHorizontalFlip(p = 0.5),\n",
    "                    tt.ToTensor(),\n",
    "    ])\n",
    "\n",
    "val_tfms = tt.Compose([tt.ToTensor()])\n",
    "\n",
    "#retriving the images from the folders and assigned them with a label\n",
    "train_ds = ImageFolder(data_dir+'/train',train_tfms)\n",
    "val_ds = ImageFolder(data_dir+'/test',val_tfms)\n",
    "\n",
    "\n",
    "#Creating batches (To load data into batches)\n",
    "from torch.utils.data import DataLoader\n",
    "batch_size = 32\n",
    "train_dl = DataLoader(train_ds,batch_size,shuffle=True,num_workers=2,pin_memory=True)\n",
    "val_dl = DataLoader(val_ds,batch_size,shuffle=True,num_workers=2,pin_memory=True)"
   ]
  },
  {
   "cell_type": "markdown",
   "id": "0cf44db7",
   "metadata": {},
   "source": [
    "### For GPU"
   ]
  },
  {
   "cell_type": "code",
   "execution_count": 4,
   "id": "961f1bd6",
   "metadata": {},
   "outputs": [],
   "source": [
    "##################################### for GPU ###########################\n",
    "\n",
    "def get_default_device():\n",
    "    # pick the gpu if available\n",
    "    if torch.cuda.is_available():\n",
    "        return torch.device('cuda')\n",
    "    else:\n",
    "        return torch.device('cpu')\n",
    "\n",
    "def to_device(data,device):\n",
    "    #move tensors to choosen device\n",
    "    if isinstance(data,(list,tuple)):\n",
    "        return [to_device(x,device) for x in data]\n",
    "    return data.to(device,non_blocking = True)\n",
    "\n",
    "\n",
    "class DeviceDataLoader():\n",
    "    # move the batches of the data to our selected device\n",
    "    def __init__(self,dl,device):\n",
    "        self.dl = dl\n",
    "        self.device = device\n",
    "    def __iter__(self):\n",
    "        for b in self.dl:\n",
    "            yield to_device(b, self.device)\n",
    "    def __len__(self):\n",
    "        return len(self.dl)\n",
    "\n",
    "device = get_default_device()\n",
    "\n",
    "train_loader = DeviceDataLoader(train_dl, device)\n",
    "val_loader = DeviceDataLoader(val_dl, device)\n",
    "\n",
    "#########################################################################"
   ]
  },
  {
   "cell_type": "code",
   "execution_count": 5,
   "id": "bc9e6a71",
   "metadata": {},
   "outputs": [
    {
     "name": "stdout",
     "output_type": "stream",
     "text": [
      "torch.Size([32, 3, 48, 48])\n",
      "torch.Size([32])\n"
     ]
    }
   ],
   "source": [
    "for x,y in train_loader:\n",
    "    print(x.shape)\n",
    "    print(y.shape)\n",
    "    break"
   ]
  },
  {
   "cell_type": "markdown",
   "id": "dfd32cb8",
   "metadata": {},
   "source": [
    "### Check results on a few select images"
   ]
  },
  {
   "cell_type": "code",
   "execution_count": 5,
   "id": "3f137244",
   "metadata": {},
   "outputs": [],
   "source": [
    "class_labels=['Angry','Disgust', 'Fear', 'Happy','Neutral','Sad','Surprise']\n",
    "# x,y = next(iter(train_loader))\n",
    "# y = y.cpu()"
   ]
  },
  {
   "cell_type": "code",
   "execution_count": 7,
   "id": "fc4b01f3",
   "metadata": {},
   "outputs": [],
   "source": [
    "# n=random.randint(0, x.shape[0] - 1)\n",
    "# image = x[n]\n",
    "# orig_labl = class_labels[y[n]]\n",
    "# plt.imshow(np.moveaxis(image.cpu().numpy(),0,-1))\n",
    "# plt.title(\"Original label is : \"+orig_labl)\n",
    "# plt.show()"
   ]
  },
  {
   "cell_type": "code",
   "execution_count": 8,
   "id": "0b3df1aa",
   "metadata": {},
   "outputs": [],
   "source": [
    "# n=random.randint(0, x.shape[0] - 1)\n",
    "# image = x[n]\n",
    "# orig_labl = class_labels[y[n]]\n",
    "# plt.imshow(np.moveaxis(image.cpu().numpy(),0,-1))\n",
    "# plt.title(\"Original label is : \"+orig_labl)\n",
    "# plt.show()"
   ]
  },
  {
   "cell_type": "markdown",
   "id": "b2633e7c",
   "metadata": {},
   "source": [
    "## Defining the model"
   ]
  },
  {
   "cell_type": "code",
   "execution_count": 6,
   "id": "691eb4e5",
   "metadata": {},
   "outputs": [],
   "source": [
    "import torch.nn as nn\n",
    "import torch.nn.functional as fn\n",
    "\n",
    "class Residual(nn.Module):\n",
    "    def __init__(self, channels: int):\n",
    "        super().__init__()\n",
    "        self.conv1 = nn.Conv2d(channels, channels, 3, padding=(1, 1))\n",
    "        self.conv1_bn = nn.BatchNorm2d(channels)\n",
    "        self.conv2 = nn.Conv2d(channels, channels, 3, padding=(1, 1))\n",
    "        self.conv2_bn = nn.BatchNorm2d(channels)\n",
    "\n",
    "    def forward(self, x):\n",
    "        out = self.conv1(x)\n",
    "        out = self.conv1_bn(out)\n",
    "        out = fn.leaky_relu(out, negative_slope=0.1)\n",
    "        out = self.conv2(out)\n",
    "        out = self.conv2_bn(out)\n",
    "        out = fn.leaky_relu(out, negative_slope=0.1)\n",
    "        return out\n",
    "\n",
    "class ResNet9(nn.Module):\n",
    "    def __init__(self, input_size,classes):\n",
    "        super().__init__()\n",
    "        self.conv0 = nn.Conv2d(input_size, 64, 3, padding=(1, 1))\n",
    "        self.conv0_bn = nn.BatchNorm2d(64, momentum=0.8)\n",
    "        self.conv1 = nn.Conv2d(64, 128, 3, padding=(1, 1))\n",
    "        self.conv1_bn = nn.BatchNorm2d(128, momentum=0.8)\n",
    "        self.residual1 = Residual(128)\n",
    "        self.conv2 = nn.Conv2d(128, 256, 3, padding=(1, 1))\n",
    "        self.conv2_bn = nn.BatchNorm2d(256, momentum=0.8)\n",
    "        self.residual2 = Residual(256)\n",
    "        self.conv3 = nn.Conv2d(256, 512, 3, padding=(1, 1))\n",
    "        self.conv3_bn = nn.BatchNorm2d(512, momentum=0.8)\n",
    "        self.residual3 = Residual(512)\n",
    "        self.fc1 = nn.Linear(512, classes)\n",
    "\n",
    "    def forward(self, x):\n",
    "        # prep layer\n",
    "        x = self.conv0(x)\n",
    "        x = self.conv0_bn(x)\n",
    "        x = fn.leaky_relu(x, negative_slope=0.1)\n",
    "        # layer 1\n",
    "        x = self.conv1(x)\n",
    "        x = fn.max_pool2d(x, 2)\n",
    "        x = self.conv1_bn(x)\n",
    "        x = fn.leaky_relu(x, negative_slope=0.1)\n",
    "        x = x + self.residual1(x)\n",
    "        # layer 2\n",
    "        x = self.conv2(x)\n",
    "        x = fn.max_pool2d(x, 2)\n",
    "        x = self.conv2_bn(x)\n",
    "        x = fn.leaky_relu(x, negative_slope=0.1)\n",
    "        x = x + self.residual2(x)\n",
    "        # layer 3\n",
    "        x = self.conv3(x)\n",
    "        x = fn.max_pool2d(x, 2)\n",
    "        x = self.conv3_bn(x)\n",
    "        x = fn.leaky_relu(x, negative_slope=0.1)\n",
    "        x = x + self.residual3(x)\n",
    "        # layer 4\n",
    "        x = nn.AdaptiveMaxPool2d((1, 1))(x)\n",
    "        x = torch.flatten(x, 1)\n",
    "        x = self.fc1(x)\n",
    "        x = fn.softmax(x, dim=-1)\n",
    "        return x"
   ]
  },
  {
   "cell_type": "code",
   "execution_count": 7,
   "id": "b1cc490f",
   "metadata": {},
   "outputs": [],
   "source": [
    "train_losses = []\n",
    "val_losses = []\n",
    "metrics = []\n",
    "lrs = []\n",
    "\n",
    "def get_lr(optimizer):\n",
    "    for param_group in optimizer.param_groups:\n",
    "        return param_group['lr']\n",
    "\n",
    "def loss_batch(model,loss_fn,xb,yb,sched,opt=None,metric=None,grad_clip = None):\n",
    "    # perform for every batch of data\n",
    "    # calculate loss\n",
    "    pred = model(xb)\n",
    "    loss = loss_fn(pred, yb)\n",
    "    #we keep optimizer as optional because we will use this function to evaluate validation set\n",
    "    #and there we don't need optimizer\n",
    "    if opt is not None:\n",
    "        #compute gradient\n",
    "        loss.backward()\n",
    "        # Gradient clipping\n",
    "        if grad_clip: \n",
    "            nn.utils.clip_grad_value_(model.parameters(), grad_clip)\n",
    "        #update weights\n",
    "        opt.step()\n",
    "        #reset gradients\n",
    "        opt.zero_grad()\n",
    "        \n",
    "        # Record & update learning rate\n",
    "        lrs.append(get_lr(opt))\n",
    "        sched.step()\n",
    "        \n",
    "    \n",
    "    metric_result = None\n",
    "    if metric is not None:\n",
    "        #compute the metric\n",
    "        metric_result = metric(pred,yb)    \n",
    "    return loss.item(),len(xb),metric_result\n",
    "\n",
    "def evaluate(model,loss_fn,valid_dl,grad_clip,sched,metric=None):\n",
    "    with torch.no_grad():   #because we don't want to compute gradient for this\n",
    "        #pass each batch through the model\n",
    "        results = [loss_batch(model, loss_fn, xb, yb,sched,metric = metric)\n",
    "                   for xb,yb in valid_dl]\n",
    "        losses,nums,metrics = zip(*results)\n",
    "        #total size of the datasets\n",
    "        total = np.sum(nums)\n",
    "        #average loss over the batches\n",
    "        avg_loss = np.sum(np.multiply(losses,nums))/total\n",
    "        avg_metric = None\n",
    "        if metric is not None:\n",
    "            #avg of metric across batches\n",
    "            avg_metric = np.sum(np.multiply(metrics,nums))/total\n",
    "    return avg_loss,total,avg_metric \n",
    "\n",
    "def accuracy(outputs,labels):\n",
    "    _,preds = torch.max(outputs,dim = 1)\n",
    "    return torch.sum(preds == labels).item()/len(preds)\n",
    "\n",
    "\n",
    "def fit(epochs,model,loss_fn,opt,train_dl,valid_dl,grad_clip,sched,metric=None):\n",
    "\n",
    "    for epoch in range(epochs):\n",
    "        #Training\n",
    "        model.train()\n",
    "        for xb,yb in train_dl:\n",
    "            loss,_,_ = loss_batch(model, loss_fn, xb, yb,sched,opt,grad_clip = grad_clip)\n",
    "        \n",
    "        #Evaluation\n",
    "        model.eval()\n",
    "        result = evaluate(model, loss_fn, valid_dl,grad_clip,sched,metric)\n",
    "        val_loss,total,val_metric = result\n",
    "        \n",
    "        #keep track of all loss and metric\n",
    "        train_losses.append(loss)\n",
    "        val_losses.append(val_loss)\n",
    "        \n",
    "        metrics.append(val_metric)\n",
    "        #print progress\n",
    "        #print(epoch,\" accuracy : \",metrics)\n",
    "        if metric is None:\n",
    "            print('Epoch [{}/{}],Loss: {:.4f}'.format(epoch+1,epochs,val_loss))\n",
    "        else:\n",
    "            print('Epoch [{}/{}],Loss: {:.4f}, {}: {:.4f}'\n",
    "                  .format(epoch+1,epochs,val_loss,metric.__name__,val_metric))\n"
   ]
  },
  {
   "cell_type": "code",
   "execution_count": 8,
   "id": "be8601c1",
   "metadata": {},
   "outputs": [],
   "source": [
    "epochs = 100\n",
    "max_lr = 0.01\n",
    "grad_clip = 0.1\n",
    "weight_decay = 1e-4\n"
   ]
  },
  {
   "cell_type": "markdown",
   "id": "08d6c360",
   "metadata": {},
   "source": [
    "### Setting up model, optimizer and loss function"
   ]
  },
  {
   "cell_type": "code",
   "execution_count": 9,
   "id": "82d98350",
   "metadata": {},
   "outputs": [],
   "source": [
    "model = to_device(ResNet9(3,7),device)\n",
    "# Set up cutom optimizer with weight decay\n",
    "optimizer = torch.optim.Adam(model.parameters(), lr=max_lr,weight_decay=weight_decay)\n",
    "# Set up one-cycle learning rate scheduler\n",
    "sched = torch.optim.lr_scheduler.OneCycleLR(optimizer, max_lr, epochs=epochs, \n",
    "                                                steps_per_epoch=len(train_loader))\n",
    "\n",
    "#loss function (Cross Entropy)\n",
    "loss_fn = fn.cross_entropy \n"
   ]
  },
  {
   "cell_type": "markdown",
   "id": "1af2696c",
   "metadata": {},
   "source": [
    "#### Training the model"
   ]
  },
  {
   "cell_type": "code",
   "execution_count": 13,
   "id": "60e29e31",
   "metadata": {},
   "outputs": [
    {
     "name": "stdout",
     "output_type": "stream",
     "text": [
      "Epoch [1/100],Loss: 1.8125, accuracy: 0.3399\n",
      "Epoch [2/100],Loss: 1.7953, accuracy: 0.3540\n",
      "Epoch [3/100],Loss: 1.7216, accuracy: 0.4351\n",
      "Epoch [4/100],Loss: 1.7544, accuracy: 0.4003\n",
      "Epoch [5/100],Loss: 1.7295, accuracy: 0.4270\n",
      "Epoch [6/100],Loss: 1.7302, accuracy: 0.4277\n",
      "Epoch [7/100],Loss: 1.7447, accuracy: 0.4147\n",
      "Epoch [8/100],Loss: 1.7536, accuracy: 0.4055\n",
      "Epoch [9/100],Loss: 1.7643, accuracy: 0.3951\n",
      "Epoch [10/100],Loss: 1.7482, accuracy: 0.4096\n",
      "Epoch [11/100],Loss: 1.7003, accuracy: 0.4590\n",
      "Epoch [12/100],Loss: 1.6608, accuracy: 0.4982\n",
      "Epoch [13/100],Loss: 1.6536, accuracy: 0.5047\n",
      "Epoch [14/100],Loss: 1.6783, accuracy: 0.4829\n",
      "Epoch [15/100],Loss: 1.6825, accuracy: 0.4769\n",
      "Epoch [16/100],Loss: 1.6483, accuracy: 0.5118\n",
      "Epoch [17/100],Loss: 1.6444, accuracy: 0.5146\n",
      "Epoch [18/100],Loss: 1.6770, accuracy: 0.4822\n",
      "Epoch [19/100],Loss: 1.6783, accuracy: 0.4790\n",
      "Epoch [20/100],Loss: 1.7549, accuracy: 0.4035\n",
      "Epoch [21/100],Loss: 1.6761, accuracy: 0.4847\n",
      "Epoch [22/100],Loss: 1.6752, accuracy: 0.4840\n",
      "Epoch [23/100],Loss: 1.6664, accuracy: 0.4936\n",
      "Epoch [24/100],Loss: 1.6966, accuracy: 0.4618\n",
      "Epoch [25/100],Loss: 1.6921, accuracy: 0.4678\n",
      "Epoch [26/100],Loss: 1.7288, accuracy: 0.4340\n",
      "Epoch [27/100],Loss: 1.7025, accuracy: 0.4604\n",
      "Epoch [28/100],Loss: 1.7109, accuracy: 0.4486\n",
      "Epoch [29/100],Loss: 1.6844, accuracy: 0.4752\n",
      "Epoch [30/100],Loss: 1.6957, accuracy: 0.4642\n",
      "Epoch [31/100],Loss: 1.7051, accuracy: 0.4546\n",
      "Epoch [32/100],Loss: 1.6895, accuracy: 0.4717\n",
      "Epoch [33/100],Loss: 1.7121, accuracy: 0.4504\n",
      "Epoch [34/100],Loss: 1.6781, accuracy: 0.4833\n",
      "Epoch [35/100],Loss: 1.6803, accuracy: 0.4806\n",
      "Epoch [36/100],Loss: 1.6953, accuracy: 0.4641\n",
      "Epoch [37/100],Loss: 1.6851, accuracy: 0.4763\n",
      "Epoch [38/100],Loss: 1.6972, accuracy: 0.4629\n",
      "Epoch [39/100],Loss: 1.7151, accuracy: 0.4457\n",
      "Epoch [40/100],Loss: 1.6990, accuracy: 0.4609\n",
      "Epoch [41/100],Loss: 1.7025, accuracy: 0.4586\n",
      "Epoch [42/100],Loss: 1.7067, accuracy: 0.4557\n",
      "Epoch [43/100],Loss: 1.6895, accuracy: 0.4720\n",
      "Epoch [44/100],Loss: 1.6687, accuracy: 0.4922\n",
      "Epoch [45/100],Loss: 1.6829, accuracy: 0.4780\n",
      "Epoch [46/100],Loss: 1.6642, accuracy: 0.4967\n",
      "Epoch [47/100],Loss: 1.6784, accuracy: 0.4829\n",
      "Epoch [48/100],Loss: 1.6649, accuracy: 0.4953\n",
      "Epoch [49/100],Loss: 1.6651, accuracy: 0.4958\n",
      "Epoch [50/100],Loss: 1.6616, accuracy: 0.5003\n",
      "Epoch [51/100],Loss: 1.6612, accuracy: 0.5006\n",
      "Epoch [52/100],Loss: 1.7123, accuracy: 0.4494\n",
      "Epoch [53/100],Loss: 1.7353, accuracy: 0.4252\n",
      "Epoch [54/100],Loss: 1.6740, accuracy: 0.4857\n",
      "Epoch [55/100],Loss: 1.6788, accuracy: 0.4809\n",
      "Epoch [56/100],Loss: 1.6486, accuracy: 0.5114\n",
      "Epoch [57/100],Loss: 1.6640, accuracy: 0.4953\n",
      "Epoch [58/100],Loss: 1.6401, accuracy: 0.5184\n",
      "Epoch [59/100],Loss: 1.6419, accuracy: 0.5177\n",
      "Epoch [60/100],Loss: 1.6447, accuracy: 0.5137\n",
      "Epoch [61/100],Loss: 1.6523, accuracy: 0.5063\n",
      "Epoch [62/100],Loss: 1.6476, accuracy: 0.5092\n",
      "Epoch [63/100],Loss: 1.6533, accuracy: 0.5071\n",
      "Epoch [64/100],Loss: 1.6287, accuracy: 0.5301\n",
      "Epoch [65/100],Loss: 1.6344, accuracy: 0.5226\n",
      "Epoch [66/100],Loss: 1.6374, accuracy: 0.5222\n",
      "Epoch [67/100],Loss: 1.6331, accuracy: 0.5279\n",
      "Epoch [68/100],Loss: 1.6344, accuracy: 0.5226\n",
      "Epoch [69/100],Loss: 1.6227, accuracy: 0.5364\n",
      "Epoch [70/100],Loss: 1.6319, accuracy: 0.5267\n",
      "Epoch [71/100],Loss: 1.6292, accuracy: 0.5293\n",
      "Epoch [72/100],Loss: 1.6246, accuracy: 0.5340\n",
      "Epoch [73/100],Loss: 1.6278, accuracy: 0.5316\n",
      "Epoch [74/100],Loss: 1.6364, accuracy: 0.5234\n",
      "Epoch [75/100],Loss: 1.6165, accuracy: 0.5440\n",
      "Epoch [76/100],Loss: 1.6261, accuracy: 0.5329\n",
      "Epoch [77/100],Loss: 1.6072, accuracy: 0.5534\n",
      "Epoch [78/100],Loss: 1.5960, accuracy: 0.5656\n",
      "Epoch [79/100],Loss: 1.6052, accuracy: 0.5539\n",
      "Epoch [80/100],Loss: 1.6007, accuracy: 0.5595\n",
      "Epoch [81/100],Loss: 1.5955, accuracy: 0.5646\n",
      "Epoch [82/100],Loss: 1.5872, accuracy: 0.5743\n",
      "Epoch [83/100],Loss: 1.5927, accuracy: 0.5677\n",
      "Epoch [84/100],Loss: 1.5939, accuracy: 0.5665\n",
      "Epoch [85/100],Loss: 1.5862, accuracy: 0.5733\n",
      "Epoch [86/100],Loss: 1.5954, accuracy: 0.5626\n",
      "Epoch [87/100],Loss: 1.5866, accuracy: 0.5731\n",
      "Epoch [88/100],Loss: 1.5888, accuracy: 0.5709\n",
      "Epoch [89/100],Loss: 1.5911, accuracy: 0.5683\n",
      "Epoch [90/100],Loss: 1.5858, accuracy: 0.5737\n",
      "Epoch [91/100],Loss: 1.5864, accuracy: 0.5752\n",
      "Epoch [92/100],Loss: 1.5998, accuracy: 0.5621\n",
      "Epoch [93/100],Loss: 1.5862, accuracy: 0.5751\n",
      "Epoch [94/100],Loss: 1.5788, accuracy: 0.5822\n",
      "Epoch [95/100],Loss: 1.5902, accuracy: 0.5699\n",
      "Epoch [96/100],Loss: 1.5790, accuracy: 0.5816\n",
      "Epoch [97/100],Loss: 1.5864, accuracy: 0.5715\n",
      "Epoch [98/100],Loss: 1.5824, accuracy: 0.5789\n",
      "Epoch [99/100],Loss: 1.5798, accuracy: 0.5829\n",
      "Epoch [100/100],Loss: 1.5811, accuracy: 0.5815\n"
     ]
    }
   ],
   "source": [
    "fit(epochs,model,loss_fn,optimizer,train_loader,val_loader,grad_clip,sched,accuracy)"
   ]
  },
  {
   "cell_type": "markdown",
   "id": "7502526a",
   "metadata": {},
   "source": [
    "#### plotting the graph (Accurecy)"
   ]
  },
  {
   "cell_type": "code",
   "execution_count": 14,
   "id": "f5123dec",
   "metadata": {},
   "outputs": [
    {
     "data": {
      "image/png": "[encoded data removed]",
      "text/plain": [
       "<Figure size 432x288 with 1 Axes>"
      ]
     },
     "metadata": {
      "needs_background": "light"
     },
     "output_type": "display_data"
    }
   ],
   "source": [
    "plt.plot(metrics,'-xr')\n",
    "plt.xlabel('epochs')\n",
    "plt.ylabel('accuracy')\n",
    "plt.title(\"Accurecy over validation data \")\n",
    "plt.legend([\"accurecy\"],loc =\"lower right\")\n",
    "plt.show()"
   ]
  },
  {
   "cell_type": "markdown",
   "id": "df8ceccf",
   "metadata": {},
   "source": [
    "#### plotting the graph (loss)"
   ]
  },
  {
   "cell_type": "code",
   "execution_count": 15,
   "id": "32a6c18b",
   "metadata": {},
   "outputs": [
    {
     "data": {
      "image/png": "[encoded data removed]",
      "text/plain": [
       "<Figure size 432x288 with 1 Axes>"
      ]
     },
     "metadata": {
      "needs_background": "light"
     },
     "output_type": "display_data"
    }
   ],
   "source": [
    "plt.plot(train_losses,'-xb')\n",
    "plt.plot(val_losses,'-xg')\n",
    "plt.xlabel('epochs')\n",
    "plt.ylabel('loss')\n",
    "plt.title(\"loss \")\n",
    "plt.legend([\"train loss\",\"val loss\"])\n",
    "plt.show()"
   ]
  },
  {
   "cell_type": "markdown",
   "id": "2fe90030",
   "metadata": {},
   "source": [
    "#### visualize how the learning rate changed over time, batch-by-batch over all the epochs"
   ]
  },
  {
   "cell_type": "code",
   "execution_count": 16,
   "id": "3b454481",
   "metadata": {},
   "outputs": [
    {
     "data": {
      "image/png": "[encoded data removed]",
      "text/plain": [
       "<Figure size 432x288 with 1 Axes>"
      ]
     },
     "metadata": {
      "needs_background": "light"
     },
     "output_type": "display_data"
    }
   ],
   "source": [
    "plt.plot(lrs)\n",
    "plt.xlabel(\"Batch no.\")\n",
    "plt.ylabel(\"Learning rate\")\n",
    "plt.title(\"Learning rate vs Batch no\")\n",
    "plt.legend([\"learning rate\"])\n",
    "plt.show()"
   ]
  },
  {
   "cell_type": "markdown",
   "id": "f9bc94eb",
   "metadata": {},
   "source": [
    "## Save the model"
   ]
  },
  {
   "cell_type": "code",
   "execution_count": 17,
   "id": "1695a3c2",
   "metadata": {},
   "outputs": [],
   "source": [
    "torch.save(model.state_dict(),\"face_detection_resnet_9_pytorch_100\")"
   ]
  },
  {
   "cell_type": "markdown",
   "id": "f4b3c603",
   "metadata": {},
   "source": [
    "## Load model"
   ]
  },
  {
   "cell_type": "code",
   "execution_count": 10,
   "id": "db4aaefb",
   "metadata": {},
   "outputs": [
    {
     "data": {
      "text/plain": [
       "ResNet9(\n",
       "  (conv0): Conv2d(3, 64, kernel_size=(3, 3), stride=(1, 1), padding=(1, 1))\n",
       "  (conv0_bn): BatchNorm2d(64, eps=1e-05, momentum=0.8, affine=True, track_running_stats=True)\n",
       "  (conv1): Conv2d(64, 128, kernel_size=(3, 3), stride=(1, 1), padding=(1, 1))\n",
       "  (conv1_bn): BatchNorm2d(128, eps=1e-05, momentum=0.8, affine=True, track_running_stats=True)\n",
       "  (residual1): Residual(\n",
       "    (conv1): Conv2d(128, 128, kernel_size=(3, 3), stride=(1, 1), padding=(1, 1))\n",
       "    (conv1_bn): BatchNorm2d(128, eps=1e-05, momentum=0.1, affine=True, track_running_stats=True)\n",
       "    (conv2): Conv2d(128, 128, kernel_size=(3, 3), stride=(1, 1), padding=(1, 1))\n",
       "    (conv2_bn): BatchNorm2d(128, eps=1e-05, momentum=0.1, affine=True, track_running_stats=True)\n",
       "  )\n",
       "  (conv2): Conv2d(128, 256, kernel_size=(3, 3), stride=(1, 1), padding=(1, 1))\n",
       "  (conv2_bn): BatchNorm2d(256, eps=1e-05, momentum=0.8, affine=True, track_running_stats=True)\n",
       "  (residual2): Residual(\n",
       "    (conv1): Conv2d(256, 256, kernel_size=(3, 3), stride=(1, 1), padding=(1, 1))\n",
       "    (conv1_bn): BatchNorm2d(256, eps=1e-05, momentum=0.1, affine=True, track_running_stats=True)\n",
       "    (conv2): Conv2d(256, 256, kernel_size=(3, 3), stride=(1, 1), padding=(1, 1))\n",
       "    (conv2_bn): BatchNorm2d(256, eps=1e-05, momentum=0.1, affine=True, track_running_stats=True)\n",
       "  )\n",
       "  (conv3): Conv2d(256, 512, kernel_size=(3, 3), stride=(1, 1), padding=(1, 1))\n",
       "  (conv3_bn): BatchNorm2d(512, eps=1e-05, momentum=0.8, affine=True, track_running_stats=True)\n",
       "  (residual3): Residual(\n",
       "    (conv1): Conv2d(512, 512, kernel_size=(3, 3), stride=(1, 1), padding=(1, 1))\n",
       "    (conv1_bn): BatchNorm2d(512, eps=1e-05, momentum=0.1, affine=True, track_running_stats=True)\n",
       "    (conv2): Conv2d(512, 512, kernel_size=(3, 3), stride=(1, 1), padding=(1, 1))\n",
       "    (conv2_bn): BatchNorm2d(512, eps=1e-05, momentum=0.1, affine=True, track_running_stats=True)\n",
       "  )\n",
       "  (fc1): Linear(in_features=512, out_features=7, bias=True)\n",
       ")"
      ]
     },
     "execution_count": 10,
     "metadata": {},
     "output_type": "execute_result"
    }
   ],
   "source": [
    "model = ResNet9(3,7)\n",
    "model.load_state_dict(torch.load(\"./face_detection_pytorch_30\"))\n",
    "model.to(device)\n"
   ]
  },
  {
   "cell_type": "markdown",
   "id": "6548b1c2",
   "metadata": {},
   "source": [
    "### Confusion Matrix - verify accuracy of each class"
   ]
  },
  {
   "cell_type": "code",
   "execution_count": 11,
   "id": "e5222aca",
   "metadata": {},
   "outputs": [],
   "source": [
    "from sklearn import metrics\n",
    "from sklearn.metrics import confusion_matrix\n",
    "import seaborn as sns"
   ]
  },
  {
   "cell_type": "markdown",
   "id": "5342e065",
   "metadata": {},
   "source": [
    "### Accuracy and Confusion-Matrix for some batches"
   ]
  },
  {
   "cell_type": "code",
   "execution_count": 59,
   "id": "c8f1edfa",
   "metadata": {},
   "outputs": [
    {
     "name": "stdout",
     "output_type": "stream",
     "text": [
      "Accuracy =  0.71875\n"
     ]
    },
    {
     "data": {
      "text/plain": [
       "<AxesSubplot:>"
      ]
     },
     "execution_count": 59,
     "metadata": {},
     "output_type": "execute_result"
    },
    {
     "data": {
      "image/png": "[encoded data removed]",
      "text/plain": [
       "<Figure size 432x288 with 2 Axes>"
      ]
     },
     "metadata": {
      "needs_background": "light"
     },
     "output_type": "display_data"
    }
   ],
   "source": [
    "x,test_labels = next(iter(val_loader))\n",
    "test_labels = test_labels.cpu()\n",
    "predictions = model(x).to('cpu').detach().numpy()\n",
    "predictions = np.argmax(predictions, axis=1)\n",
    "print (\"Accuracy = \", metrics.accuracy_score(test_labels, predictions))\n",
    "cm = confusion_matrix(test_labels, predictions)\n",
    "sns.heatmap(cm, annot=True)"
   ]
  },
  {
   "cell_type": "code",
   "execution_count": 63,
   "id": "c5f6aed4",
   "metadata": {},
   "outputs": [
    {
     "name": "stdout",
     "output_type": "stream",
     "text": [
      "Accuracy =  0.5625\n"
     ]
    },
    {
     "data": {
      "text/plain": [
       "<AxesSubplot:>"
      ]
     },
     "execution_count": 63,
     "metadata": {},
     "output_type": "execute_result"
    },
    {
     "data": {
      "image/png": "[encoded data removed]",
      "text/plain": [
       "<Figure size 432x288 with 2 Axes>"
      ]
     },
     "metadata": {
      "needs_background": "light"
     },
     "output_type": "display_data"
    }
   ],
   "source": [
    "x,test_labels = next(iter(val_loader))\n",
    "test_labels = test_labels.cpu()\n",
    "predictions = model(x).to('cpu').detach().numpy()\n",
    "predictions = np.argmax(predictions, axis=1)\n",
    "print (\"Accuracy = \", metrics.accuracy_score(test_labels, predictions))\n",
    "cm = confusion_matrix(test_labels, predictions)\n",
    "sns.heatmap(cm, annot=True)"
   ]
  },
  {
   "cell_type": "markdown",
   "id": "1bac7542",
   "metadata": {},
   "source": [
    "### Check results on a few select images"
   ]
  },
  {
   "cell_type": "code",
   "execution_count": 15,
   "id": "9b0ec939",
   "metadata": {},
   "outputs": [],
   "source": [
    "x,y = next(iter(val_loader))\n",
    "y = y.cpu()"
   ]
  },
  {
   "cell_type": "code",
   "execution_count": 48,
   "id": "7dd1b41f",
   "metadata": {},
   "outputs": [
    {
     "data": {
      "image/png": "[encoded data removed]",
      "text/plain": [
       "<Figure size 432x288 with 1 Axes>"
      ]
     },
     "metadata": {
      "needs_background": "light"
     },
     "output_type": "display_data"
    }
   ],
   "source": [
    "n=random.randint(0, x.shape[0] - 1)\n",
    "image = x[n]\n",
    "predictions = model(x).to('cpu').detach().numpy()\n",
    "predictions = np.argmax(predictions, axis=1)\n",
    "orig_labl = class_labels[y[n]]\n",
    "pred_labl = class_labels[predictions[n]]\n",
    "plt.imshow(np.moveaxis(image.cpu().numpy(),0,-1))\n",
    "plt.title(\"Original label is:\"+orig_labl+\" Predicted is: \"+ pred_labl)\n",
    "plt.show()"
   ]
  },
  {
   "cell_type": "code",
   "execution_count": 52,
   "id": "b9a6dc19",
   "metadata": {},
   "outputs": [
    {
     "data": {
      "image/png": "[encoded data removed]",
      "text/plain": [
       "<Figure size 432x288 with 1 Axes>"
      ]
     },
     "metadata": {
      "needs_background": "light"
     },
     "output_type": "display_data"
    }
   ],
   "source": [
    "n=random.randint(0, x.shape[0] - 1)\n",
    "image = x[n]\n",
    "predictions = model(x).to('cpu').detach().numpy()\n",
    "predictions = np.argmax(predictions, axis=1)\n",
    "orig_labl = class_labels[y[n]]\n",
    "pred_labl = class_labels[predictions[n]]\n",
    "plt.imshow(np.moveaxis(image.cpu().numpy(),0,-1))\n",
    "plt.title(\"Original label is:\"+orig_labl+\" Predicted is: \"+ pred_labl)\n",
    "plt.show()"
   ]
  },
  {
   "cell_type": "code",
   "execution_count": 58,
   "id": "a1e86468",
   "metadata": {},
   "outputs": [
    {
     "data": {
      "image/png": "[encoded data removed]",
      "text/plain": [
       "<Figure size 432x288 with 1 Axes>"
      ]
     },
     "metadata": {
      "needs_background": "light"
     },
     "output_type": "display_data"
    }
   ],
   "source": [
    "n=random.randint(0, x.shape[0] - 1)\n",
    "image = x[n]\n",
    "predictions = model(x).to('cpu').detach().numpy()\n",
    "predictions = np.argmax(predictions, axis=1)\n",
    "orig_labl = class_labels[y[n]]\n",
    "pred_labl = class_labels[predictions[n]]\n",
    "plt.imshow(np.moveaxis(image.cpu().numpy(),0,-1))\n",
    "plt.title(\"Original label is:\"+orig_labl+\" Predicted is: \"+ pred_labl)\n",
    "plt.show()"
   ]
  },
  {
   "cell_type": "code",
   "execution_count": null,
   "id": "f8f4ec25",
   "metadata": {},
   "outputs": [],
   "source": []
  }
 ],
 "metadata": {
  "kernelspec": {
   "display_name": "Python 3",
   "language": "python",
   "name": "python3"
  },
  "language_info": {
   "codemirror_mode": {
    "name": "ipython",
    "version": 3
   },
   "file_extension": ".py",
   "mimetype": "text/x-python",
   "name": "python",
   "nbconvert_exporter": "python",
   "pygments_lexer": "ipython3",
   "version": "3.8.8"
  }
 },
 "nbformat": 4,
 "nbformat_minor": 5
}
